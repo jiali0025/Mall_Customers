{
 "cells": [
  {
   "cell_type": "code",
   "execution_count": null,
   "id": "394b121d",
   "metadata": {},
   "outputs": [],
   "source": [
    "import pandas as pd\n",
    "import seaborn as sns\n",
    "import matplotlib.pyplot as plt # plotting\n",
    "from sklearn.cluster import KMeans # loading k means algorithm\n",
    "import warnings\n",
    "warnings.filterwarnings('ignore')"
   ]
  },
  {
   "cell_type": "code",
   "execution_count": null,
   "id": "ffd67b4a",
   "metadata": {},
   "outputs": [],
   "source": [
    "df = pd.read_csv(\"Mall_Customers.csv\")\n",
    "df.head()"
   ]
  },
  {
   "cell_type": "code",
   "execution_count": null,
   "id": "a6cdcb34",
   "metadata": {},
   "outputs": [],
   "source": [
    "df.describe()"
   ]
  },
  {
   "cell_type": "markdown",
   "id": "d45ac85a",
   "metadata": {},
   "source": [
    "# Density distribution plots"
   ]
  },
  {
   "cell_type": "code",
   "execution_count": null,
   "id": "b290fa4d",
   "metadata": {},
   "outputs": [],
   "source": [
    "sns.distplot(df['Annual Income (k$)']) # distribution plots\n",
    "# our data shape is normal distirbution\n",
    "df.columns"
   ]
  },
  {
   "cell_type": "code",
   "execution_count": null,
   "id": "aeec6bc0",
   "metadata": {},
   "outputs": [],
   "source": [
    "# we use a for loop to makes distribution of all the variables\n",
    "columns = ['Age', 'Annual Income (k$)', 'Spending Score (1-100)']\n",
    "for i in columns:\n",
    "    plt.figure()\n",
    "    sns.displot(data=df, hue='Gender', x=i, kind='kde', fill=True, \n",
    "                height=5,aspect=1.6, cut=0, bw_adjust=1)"
   ]
  },
  {
   "cell_type": "code",
   "execution_count": null,
   "id": "53d582fc",
   "metadata": {},
   "outputs": [],
   "source": [
    "# lets use a box plot for more visualisations\n",
    "columns = ['Age', 'Annual Income (k$)', 'Spending Score (1-100)']\n",
    "for i in columns:\n",
    "    plt.figure()\n",
    "    sns.boxplot(data=df, x='Gender', y=i)"
   ]
  },
  {
   "cell_type": "code",
   "execution_count": null,
   "id": "f56874e3",
   "metadata": {},
   "outputs": [],
   "source": [
    "df['Gender'].value_counts(normalize = True)\n",
    "# normalize to see percentages of gender in the data"
   ]
  },
  {
   "cell_type": "markdown",
   "id": "33587539",
   "metadata": {},
   "source": [
    "# Bivariate Analysis"
   ]
  },
  {
   "cell_type": "code",
   "execution_count": null,
   "id": "fea16b50",
   "metadata": {},
   "outputs": [],
   "source": [
    "sns.scatterplot(data=df, x='Annual Income (k$)', y = 'Spending Score (1-100)')"
   ]
  },
  {
   "cell_type": "code",
   "execution_count": null,
   "id": "fd8f51a7",
   "metadata": {},
   "outputs": [],
   "source": [
    "# use pair plots to see all the scatterplots and histograms\n",
    "df1=df.drop('CustomerID', axis=1) # axis 1 dropping customer ID column level\n",
    "sns.pairplot(data=df1, hue='Gender')"
   ]
  },
  {
   "cell_type": "code",
   "execution_count": null,
   "id": "8d469b1c",
   "metadata": {},
   "outputs": [],
   "source": [
    "df1.groupby(['Gender'])['Age', 'Annual Income (k$)', 'Spending Score (1-100)'].mean()"
   ]
  },
  {
   "cell_type": "code",
   "execution_count": null,
   "id": "ab37d718",
   "metadata": {},
   "outputs": [],
   "source": [
    "# correlation\n",
    "df1.corr()"
   ]
  },
  {
   "cell_type": "code",
   "execution_count": null,
   "id": "c7df593c",
   "metadata": {},
   "outputs": [],
   "source": [
    "sns.heatmap(df1.corr(), annot=True, cmap='coolwarm')"
   ]
  },
  {
   "cell_type": "markdown",
   "id": "d09c38f4",
   "metadata": {},
   "source": [
    "# Clustering (univariate clustering, bivariate clustering)"
   ]
  },
  {
   "cell_type": "code",
   "execution_count": null,
   "id": "b1d55d33",
   "metadata": {},
   "outputs": [],
   "source": [
    "clustering1 = KMeans(n_clusters=6)\n",
    "df1.columns # to see columns of the data frame"
   ]
  },
  {
   "cell_type": "code",
   "execution_count": null,
   "id": "2df95794",
   "metadata": {},
   "outputs": [],
   "source": [
    "clustering1.fit(df1[['Annual Income (k$)']]) \n",
    "# Fit data on the clustering algo "
   ]
  },
  {
   "cell_type": "code",
   "execution_count": null,
   "id": "5cb4c394",
   "metadata": {},
   "outputs": [],
   "source": [
    "clustering1.labels_ # clusters showing default clusters = 8"
   ]
  },
  {
   "cell_type": "code",
   "execution_count": null,
   "id": "305be4ea",
   "metadata": {},
   "outputs": [],
   "source": [
    "df1['Income cluster'] = clustering1.labels_\n",
    "df1.head()"
   ]
  },
  {
   "cell_type": "code",
   "execution_count": null,
   "id": "bf031e45",
   "metadata": {},
   "outputs": [],
   "source": [
    "df1['Income cluster'].value_counts()"
   ]
  },
  {
   "cell_type": "code",
   "execution_count": null,
   "id": "d594c728",
   "metadata": {},
   "outputs": [],
   "source": [
    "clustering1.inertia_ \n",
    "# distance between the centroid, we would want to lower this number 5050.904761904766"
   ]
  },
  {
   "cell_type": "markdown",
   "id": "fbdc02c7",
   "metadata": {},
   "source": [
    "# Elbow Method for optimal value of k in KMeans"
   ]
  },
  {
   "cell_type": "code",
   "execution_count": null,
   "id": "e28cb4a6",
   "metadata": {},
   "outputs": [],
   "source": [
    "inertia_scores= []\n",
    "for i in range(1,11):\n",
    "    kmeans=KMeans(n_clusters=i)\n",
    "    kmeans.fit(df1[['Annual Income (k$)']])\n",
    "    inertia_scores.append(kmeans.inertia_)"
   ]
  },
  {
   "cell_type": "code",
   "execution_count": null,
   "id": "774a20cb",
   "metadata": {},
   "outputs": [],
   "source": [
    "plt.plot(range(1,11),inertia_scores) # elBow shows 3\n",
    "plt.xlabel('Values of K')\n",
    "plt.ylabel('Inertia')"
   ]
  },
  {
   "cell_type": "code",
   "execution_count": null,
   "id": "a921b347",
   "metadata": {},
   "outputs": [],
   "source": [
    "clustering1 = KMeans(n_clusters=3)\n",
    "clustering1.fit(df1[['Annual Income (k$)']])\n",
    "clustering1.inertia_\n",
    "df1['Income cluster']= clustering1.labels_\n",
    "df1['Income cluster'].value_counts()"
   ]
  },
  {
   "cell_type": "code",
   "execution_count": null,
   "id": "8fd90336",
   "metadata": {},
   "outputs": [],
   "source": [
    "df1.groupby('Income cluster')['Age', 'Annual Income (k$)','Spending Score (1-100)'].mean()"
   ]
  },
  {
   "cell_type": "code",
   "execution_count": null,
   "id": "b28f2668",
   "metadata": {},
   "outputs": [],
   "source": [
    "clustering2 = KMeans(n_clusters=3)\n",
    "clustering2.fit(df1[['Annual Income (k$)','Spending Score (1-100)']])\n",
    "clustering2.labels_\n",
    "# add cluster column to the data frame \n",
    "df1['Spending and Income cluster']= clustering2.labels_ \n",
    "#df1['Income cluster'].value_counts()\n",
    "df1.head()"
   ]
  },
  {
   "cell_type": "code",
   "execution_count": null,
   "id": "f114b925",
   "metadata": {},
   "outputs": [],
   "source": [
    "inertia_scores2= []\n",
    "for i in range(1,11):\n",
    "    kmeans2=KMeans(n_clusters=i)\n",
    "    kmeans2.fit(df1[['Annual Income (k$)','Spending Score (1-100)']])\n",
    "    inertia_scores2.append(kmeans2.inertia_)  \n",
    "plt.plot(range(1,11),inertia_scores2)\n",
    "plt.xlabel('Values of K')\n",
    "plt.ylabel('Inertia')"
   ]
  },
  {
   "cell_type": "code",
   "execution_count": null,
   "id": "e2d28f22",
   "metadata": {},
   "outputs": [],
   "source": [
    "# elbow seems 5 here so lets train again on 5 clusters\n",
    "clustering2 = KMeans(n_clusters=5)\n",
    "clustering2.fit(df1[['Annual Income (k$)','Spending Score (1-100)']])\n",
    "clustering2.labels_\n",
    "df1['Spending and Income cluster']= clustering2.labels_\n",
    "#df1[‘Income cluster’].value_counts()\n",
    "plt.figure(figsize=(10,8))\n",
    "sns.scatterplot(data=df1, x='Annual Income (k$)', y ='Spending Score (1-100)', hue='Spending and Income cluster', palette='tab10')"
   ]
  },
  {
   "cell_type": "code",
   "execution_count": null,
   "id": "0cdff3e6",
   "metadata": {},
   "outputs": [],
   "source": [
    "centers =pd.DataFrame(clustering2.cluster_centers_)\n",
    "centers.columns = ['x','y']\n",
    "centers"
   ]
  },
  {
   "cell_type": "code",
   "execution_count": null,
   "id": "4c587d60",
   "metadata": {},
   "outputs": [],
   "source": [
    "plt.figure(figsize=(10,8))\n",
    "plt.scatter(x=centers['x'],y=centers['y'],s=100,c='black',marker='*')\n",
    "sns.scatterplot(data=df1, x='Annual Income (k$)', y ='Spending Score (1-100)', hue='Spending and Income cluster', palette='tab10')\n",
    "plt.savefig('clustering_bivaraiate.png')"
   ]
  },
  {
   "cell_type": "code",
   "execution_count": null,
   "id": "216eef43",
   "metadata": {},
   "outputs": [],
   "source": [
    "pd.crosstab(df1['Spending and Income cluster'],df1['Gender'],normalize='index') \n",
    "# cluster 1 is spending the highest"
   ]
  },
  {
   "cell_type": "code",
   "execution_count": null,
   "id": "edd61c88",
   "metadata": {},
   "outputs": [],
   "source": [
    "df1.groupby('Spending and Income cluster')['Age', 'Annual Income (k$)', 'Spending Score (1-100)'].mean()"
   ]
  },
  {
   "cell_type": "code",
   "execution_count": null,
   "id": "32e7aed9",
   "metadata": {},
   "outputs": [],
   "source": []
  }
 ],
 "metadata": {
  "kernelspec": {
   "display_name": "Python 3 (ipykernel)",
   "language": "python",
   "name": "python3"
  },
  "language_info": {
   "codemirror_mode": {
    "name": "ipython",
    "version": 3
   },
   "file_extension": ".py",
   "mimetype": "text/x-python",
   "name": "python",
   "nbconvert_exporter": "python",
   "pygments_lexer": "ipython3",
   "version": "3.9.7"
  }
 },
 "nbformat": 4,
 "nbformat_minor": 5
}
